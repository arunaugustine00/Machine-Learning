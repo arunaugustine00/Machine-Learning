{
 "cells": [
  {
   "cell_type": "code",
   "execution_count": 1,
   "metadata": {},
   "outputs": [],
   "source": [
    "import random, math\n",
    "import pandas as pd\n",
    "import numpy as np\n",
    "import matplotlib.pyplot as plt "
   ]
  },
  {
   "cell_type": "code",
   "execution_count": 2,
   "metadata": {},
   "outputs": [],
   "source": [
    "from pylab import rcParams\n",
    "rcParams['figure.figsize'] = 16, 6"
   ]
  },
  {
   "cell_type": "code",
   "execution_count": 3,
   "metadata": {},
   "outputs": [],
   "source": [
    "from sklearn.linear_model import LinearRegression\n",
    "from sklearn.preprocessing import LabelEncoder\n",
    "from sklearn.preprocessing import StandardScaler\n",
    "from sklearn.model_selection import train_test_split \n",
    "from sklearn.metrics import r2_score"
   ]
  },
  {
   "cell_type": "code",
   "execution_count": 4,
   "metadata": {},
   "outputs": [],
   "source": [
    "size = 200\n",
    "dummy_data = {}\n",
    "bhk_list = []\n",
    "floor_list = []\n",
    "years_old_list = []\n",
    "sqft_list = []\n",
    "place_list = []\n",
    "price_list = []\n",
    "locality_list = ['Marathahalli','Malleswaram','Koramangala','Jayanagar','Banashankari','Hebbal','Indira Nagar','Whitefield','HSR Layout','BTM Layout']"
   ]
  },
  {
   "cell_type": "code",
   "execution_count": 5,
   "metadata": {},
   "outputs": [],
   "source": [
    "point_dict = {\n",
    "    'bhk': \n",
    "    {\n",
    "        1:25,2:50,3:75,4:100\n",
    "    },\n",
    "    'floor':\n",
    "    {\n",
    "        1:10,2:20,3:30,4:40,5:50,6:60,7:70,8:80,9:90,10:100\n",
    "    },\n",
    "    'years old':\n",
    "    {\n",
    "        1:100,2:94,3:88,4:82,5:76,6:70,7:64,8:58,9:52,10:46,11:40,12:34,13:28,14:22,15:16,16:10\n",
    "    },\n",
    "    'locality':\n",
    "    {\n",
    "        'Jayanagar':100,'Koramangala':90,'Indira Nagar':80,'Banashankari':70,'Marathahalli':60,'Malleswaram':50,'HSR Layout':40,'Whitefield':30,'BTM Layout':20,'Hebbal':10\n",
    "    },\n",
    "    'sqft':\n",
    "    {\n",
    "        1000:100,1500:200,2000:300,2500:400,3000:500,3500:600,4000:700,4500:800,5000:900,6000:1000\n",
    "    }\n",
    "}"
   ]
  },
  {
   "cell_type": "code",
   "execution_count": 6,
   "metadata": {},
   "outputs": [],
   "source": [
    "def total_points(x):\n",
    "    point = 0\n",
    "    point += point_dict['bhk'][bhk_list[x]]\n",
    "    point += point_dict['floor'][floor_list[x]]\n",
    "    point += point_dict['locality'][place_list[x]]\n",
    "    point += point_dict['years old'][years_old_list[x]]\n",
    "    point += point_dict['sqft'][math.floor(sqft_list[x]/1000)*1000]\n",
    "    return point "
   ]
  },
  {
   "cell_type": "code",
   "execution_count": 7,
   "metadata": {},
   "outputs": [],
   "source": [
    "for i in range(size):\n",
    "    bhk_list.append(random.randint(1,4))\n",
    "    floor_list.append(random.randint(1,10))\n",
    "    years_old_list.append(random.randint(1,16))\n",
    "    sqft_list.append(random.randint(1000,5000))\n",
    "    place_list.append(random.choice(locality_list))"
   ]
  },
  {
   "cell_type": "code",
   "execution_count": 8,
   "metadata": {},
   "outputs": [],
   "source": [
    "for x in range(size):\n",
    "    if  10 < total_points(x) <= 300 :\n",
    "        price_list.append(random.randint(100000,500000))\n",
    "    elif 300 < total_points(x) <= 600 :\n",
    "        price_list.append(random.randint(500000,1000000))\n",
    "    elif 600 < total_points(x) <= 900 :\n",
    "        price_list.append(random.randint(1000000,1500000))\n",
    "    elif 900 < total_points(x) <= 1200 :\n",
    "        price_list.append(random.randint(1500000,2000000))\n",
    "    else:\n",
    "        price_list.append(random.randint(2000000,3000000))"
   ]
  },
  {
   "cell_type": "code",
   "execution_count": 9,
   "metadata": {},
   "outputs": [],
   "source": [
    "dummy_data['bhk'] = bhk_list\n",
    "dummy_data['floor'] = floor_list\n",
    "dummy_data['years_old'] = years_old_list\n",
    "dummy_data['sqft'] = sqft_list\n",
    "dummy_data['place'] = place_list\n",
    "dummy_data['price'] = price_list"
   ]
  },
  {
   "cell_type": "code",
   "execution_count": 10,
   "metadata": {},
   "outputs": [],
   "source": [
    "data = pd.DataFrame.from_dict(dummy_data)"
   ]
  },
  {
   "cell_type": "code",
   "execution_count": 11,
   "metadata": {},
   "outputs": [
    {
     "data": {
      "text/html": [
       "<div>\n",
       "<style scoped>\n",
       "    .dataframe tbody tr th:only-of-type {\n",
       "        vertical-align: middle;\n",
       "    }\n",
       "\n",
       "    .dataframe tbody tr th {\n",
       "        vertical-align: top;\n",
       "    }\n",
       "\n",
       "    .dataframe thead th {\n",
       "        text-align: right;\n",
       "    }\n",
       "</style>\n",
       "<table border=\"1\" class=\"dataframe\">\n",
       "  <thead>\n",
       "    <tr style=\"text-align: right;\">\n",
       "      <th></th>\n",
       "      <th>bhk</th>\n",
       "      <th>floor</th>\n",
       "      <th>years_old</th>\n",
       "      <th>sqft</th>\n",
       "      <th>place</th>\n",
       "      <th>price</th>\n",
       "    </tr>\n",
       "  </thead>\n",
       "  <tbody>\n",
       "    <tr>\n",
       "      <td>0</td>\n",
       "      <td>3</td>\n",
       "      <td>10</td>\n",
       "      <td>14</td>\n",
       "      <td>1274</td>\n",
       "      <td>Malleswaram</td>\n",
       "      <td>558598</td>\n",
       "    </tr>\n",
       "    <tr>\n",
       "      <td>1</td>\n",
       "      <td>3</td>\n",
       "      <td>8</td>\n",
       "      <td>14</td>\n",
       "      <td>3144</td>\n",
       "      <td>Banashankari</td>\n",
       "      <td>1140726</td>\n",
       "    </tr>\n",
       "    <tr>\n",
       "      <td>2</td>\n",
       "      <td>1</td>\n",
       "      <td>8</td>\n",
       "      <td>7</td>\n",
       "      <td>2197</td>\n",
       "      <td>Koramangala</td>\n",
       "      <td>671113</td>\n",
       "    </tr>\n",
       "    <tr>\n",
       "      <td>3</td>\n",
       "      <td>2</td>\n",
       "      <td>10</td>\n",
       "      <td>10</td>\n",
       "      <td>2270</td>\n",
       "      <td>Hebbal</td>\n",
       "      <td>778517</td>\n",
       "    </tr>\n",
       "    <tr>\n",
       "      <td>4</td>\n",
       "      <td>4</td>\n",
       "      <td>1</td>\n",
       "      <td>8</td>\n",
       "      <td>3327</td>\n",
       "      <td>BTM Layout</td>\n",
       "      <td>1280405</td>\n",
       "    </tr>\n",
       "  </tbody>\n",
       "</table>\n",
       "</div>"
      ],
      "text/plain": [
       "   bhk  floor  years_old  sqft         place    price\n",
       "0    3     10         14  1274   Malleswaram   558598\n",
       "1    3      8         14  3144  Banashankari  1140726\n",
       "2    1      8          7  2197   Koramangala   671113\n",
       "3    2     10         10  2270        Hebbal   778517\n",
       "4    4      1          8  3327    BTM Layout  1280405"
      ]
     },
     "execution_count": 11,
     "metadata": {},
     "output_type": "execute_result"
    }
   ],
   "source": [
    "data.head()"
   ]
  },
  {
   "cell_type": "code",
   "execution_count": 12,
   "metadata": {},
   "outputs": [],
   "source": [
    "enc = LabelEncoder()"
   ]
  },
  {
   "cell_type": "code",
   "execution_count": 13,
   "metadata": {},
   "outputs": [
    {
     "data": {
      "text/plain": [
       "LabelEncoder()"
      ]
     },
     "execution_count": 13,
     "metadata": {},
     "output_type": "execute_result"
    }
   ],
   "source": [
    "enc.fit(data.place)"
   ]
  },
  {
   "cell_type": "code",
   "execution_count": 14,
   "metadata": {},
   "outputs": [
    {
     "data": {
      "text/plain": [
       "array(['BTM Layout', 'Banashankari', 'HSR Layout', 'Hebbal',\n",
       "       'Indira Nagar', 'Jayanagar', 'Koramangala', 'Malleswaram',\n",
       "       'Marathahalli', 'Whitefield'], dtype=object)"
      ]
     },
     "execution_count": 14,
     "metadata": {},
     "output_type": "execute_result"
    }
   ],
   "source": [
    "enc.classes_"
   ]
  },
  {
   "cell_type": "code",
   "execution_count": 15,
   "metadata": {},
   "outputs": [],
   "source": [
    "data.place = enc.transform(data.place )"
   ]
  },
  {
   "cell_type": "code",
   "execution_count": 16,
   "metadata": {},
   "outputs": [
    {
     "data": {
      "text/html": [
       "<div>\n",
       "<style scoped>\n",
       "    .dataframe tbody tr th:only-of-type {\n",
       "        vertical-align: middle;\n",
       "    }\n",
       "\n",
       "    .dataframe tbody tr th {\n",
       "        vertical-align: top;\n",
       "    }\n",
       "\n",
       "    .dataframe thead th {\n",
       "        text-align: right;\n",
       "    }\n",
       "</style>\n",
       "<table border=\"1\" class=\"dataframe\">\n",
       "  <thead>\n",
       "    <tr style=\"text-align: right;\">\n",
       "      <th></th>\n",
       "      <th>bhk</th>\n",
       "      <th>floor</th>\n",
       "      <th>years_old</th>\n",
       "      <th>sqft</th>\n",
       "      <th>place</th>\n",
       "      <th>price</th>\n",
       "    </tr>\n",
       "  </thead>\n",
       "  <tbody>\n",
       "    <tr>\n",
       "      <td>0</td>\n",
       "      <td>3</td>\n",
       "      <td>10</td>\n",
       "      <td>14</td>\n",
       "      <td>1274</td>\n",
       "      <td>7</td>\n",
       "      <td>558598</td>\n",
       "    </tr>\n",
       "    <tr>\n",
       "      <td>1</td>\n",
       "      <td>3</td>\n",
       "      <td>8</td>\n",
       "      <td>14</td>\n",
       "      <td>3144</td>\n",
       "      <td>1</td>\n",
       "      <td>1140726</td>\n",
       "    </tr>\n",
       "    <tr>\n",
       "      <td>2</td>\n",
       "      <td>1</td>\n",
       "      <td>8</td>\n",
       "      <td>7</td>\n",
       "      <td>2197</td>\n",
       "      <td>6</td>\n",
       "      <td>671113</td>\n",
       "    </tr>\n",
       "    <tr>\n",
       "      <td>3</td>\n",
       "      <td>2</td>\n",
       "      <td>10</td>\n",
       "      <td>10</td>\n",
       "      <td>2270</td>\n",
       "      <td>3</td>\n",
       "      <td>778517</td>\n",
       "    </tr>\n",
       "    <tr>\n",
       "      <td>4</td>\n",
       "      <td>4</td>\n",
       "      <td>1</td>\n",
       "      <td>8</td>\n",
       "      <td>3327</td>\n",
       "      <td>0</td>\n",
       "      <td>1280405</td>\n",
       "    </tr>\n",
       "  </tbody>\n",
       "</table>\n",
       "</div>"
      ],
      "text/plain": [
       "   bhk  floor  years_old  sqft  place    price\n",
       "0    3     10         14  1274      7   558598\n",
       "1    3      8         14  3144      1  1140726\n",
       "2    1      8          7  2197      6   671113\n",
       "3    2     10         10  2270      3   778517\n",
       "4    4      1          8  3327      0  1280405"
      ]
     },
     "execution_count": 16,
     "metadata": {},
     "output_type": "execute_result"
    }
   ],
   "source": [
    "data.head()"
   ]
  },
  {
   "cell_type": "code",
   "execution_count": 17,
   "metadata": {},
   "outputs": [
    {
     "data": {
      "text/html": [
       "<div>\n",
       "<style scoped>\n",
       "    .dataframe tbody tr th:only-of-type {\n",
       "        vertical-align: middle;\n",
       "    }\n",
       "\n",
       "    .dataframe tbody tr th {\n",
       "        vertical-align: top;\n",
       "    }\n",
       "\n",
       "    .dataframe thead th {\n",
       "        text-align: right;\n",
       "    }\n",
       "</style>\n",
       "<table border=\"1\" class=\"dataframe\">\n",
       "  <thead>\n",
       "    <tr style=\"text-align: right;\">\n",
       "      <th></th>\n",
       "      <th>bhk</th>\n",
       "      <th>floor</th>\n",
       "      <th>years_old</th>\n",
       "      <th>sqft</th>\n",
       "      <th>place</th>\n",
       "      <th>price</th>\n",
       "    </tr>\n",
       "  </thead>\n",
       "  <tbody>\n",
       "    <tr>\n",
       "      <td>bhk</td>\n",
       "      <td>1.000000</td>\n",
       "      <td>0.039818</td>\n",
       "      <td>-0.044584</td>\n",
       "      <td>0.007856</td>\n",
       "      <td>-0.081063</td>\n",
       "      <td>0.108035</td>\n",
       "    </tr>\n",
       "    <tr>\n",
       "      <td>floor</td>\n",
       "      <td>0.039818</td>\n",
       "      <td>1.000000</td>\n",
       "      <td>-0.038417</td>\n",
       "      <td>0.038897</td>\n",
       "      <td>0.077553</td>\n",
       "      <td>0.205070</td>\n",
       "    </tr>\n",
       "    <tr>\n",
       "      <td>years_old</td>\n",
       "      <td>-0.044584</td>\n",
       "      <td>-0.038417</td>\n",
       "      <td>1.000000</td>\n",
       "      <td>0.094625</td>\n",
       "      <td>0.120319</td>\n",
       "      <td>-0.101302</td>\n",
       "    </tr>\n",
       "    <tr>\n",
       "      <td>sqft</td>\n",
       "      <td>0.007856</td>\n",
       "      <td>0.038897</td>\n",
       "      <td>0.094625</td>\n",
       "      <td>1.000000</td>\n",
       "      <td>0.135026</td>\n",
       "      <td>0.830617</td>\n",
       "    </tr>\n",
       "    <tr>\n",
       "      <td>place</td>\n",
       "      <td>-0.081063</td>\n",
       "      <td>0.077553</td>\n",
       "      <td>0.120319</td>\n",
       "      <td>0.135026</td>\n",
       "      <td>1.000000</td>\n",
       "      <td>0.164381</td>\n",
       "    </tr>\n",
       "    <tr>\n",
       "      <td>price</td>\n",
       "      <td>0.108035</td>\n",
       "      <td>0.205070</td>\n",
       "      <td>-0.101302</td>\n",
       "      <td>0.830617</td>\n",
       "      <td>0.164381</td>\n",
       "      <td>1.000000</td>\n",
       "    </tr>\n",
       "  </tbody>\n",
       "</table>\n",
       "</div>"
      ],
      "text/plain": [
       "                bhk     floor  years_old      sqft     place     price\n",
       "bhk        1.000000  0.039818  -0.044584  0.007856 -0.081063  0.108035\n",
       "floor      0.039818  1.000000  -0.038417  0.038897  0.077553  0.205070\n",
       "years_old -0.044584 -0.038417   1.000000  0.094625  0.120319 -0.101302\n",
       "sqft       0.007856  0.038897   0.094625  1.000000  0.135026  0.830617\n",
       "place     -0.081063  0.077553   0.120319  0.135026  1.000000  0.164381\n",
       "price      0.108035  0.205070  -0.101302  0.830617  0.164381  1.000000"
      ]
     },
     "execution_count": 17,
     "metadata": {},
     "output_type": "execute_result"
    }
   ],
   "source": [
    "data.corr()"
   ]
  },
  {
   "cell_type": "code",
   "execution_count": 18,
   "metadata": {},
   "outputs": [
    {
     "data": {
      "text/plain": [
       "<matplotlib.collections.PathCollection at 0x7f5d828d9668>"
      ]
     },
     "execution_count": 18,
     "metadata": {},
     "output_type": "execute_result"
    },
    {
     "data": {
      "image/png": "[encoded data removed]",
      "text/plain": [
       "<Figure size 1152x432 with 1 Axes>"
      ]
     },
     "metadata": {
      "needs_background": "light"
     },
     "output_type": "display_data"
    }
   ],
   "source": [
    "plt.scatter(data['sqft'],data['price'])"
   ]
  },
  {
   "cell_type": "code",
   "execution_count": 19,
   "metadata": {},
   "outputs": [],
   "source": [
    "X = data.loc[:,['bhk','floor','years_old','sqft','place']]\n",
    "y = data['price']"
   ]
  },
  {
   "cell_type": "code",
   "execution_count": 20,
   "metadata": {},
   "outputs": [],
   "source": [
    "X_train, X_test, y_train, y_test = train_test_split(X,y,test_size=0.2,random_state=10)"
   ]
  },
  {
   "cell_type": "code",
   "execution_count": 21,
   "metadata": {},
   "outputs": [],
   "source": [
    "scaler = StandardScaler()"
   ]
  },
  {
   "cell_type": "code",
   "execution_count": 22,
   "metadata": {},
   "outputs": [],
   "source": [
    "from sklearn.preprocessing import scale"
   ]
  },
  {
   "cell_type": "code",
   "execution_count": 23,
   "metadata": {},
   "outputs": [],
   "source": [
    "X_train_scale=scale(X_train[['bhk', 'floor','years_old', 'sqft', 'place']])\n",
    "X_test_scale=scale(X_test[['bhk', 'floor','years_old', 'sqft', 'place']])"
   ]
  },
  {
   "cell_type": "code",
   "execution_count": 24,
   "metadata": {},
   "outputs": [],
   "source": [
    "model_lr = LinearRegression()"
   ]
  },
  {
   "cell_type": "code",
   "execution_count": 25,
   "metadata": {},
   "outputs": [
    {
     "data": {
      "text/plain": [
       "LinearRegression(copy_X=True, fit_intercept=True, n_jobs=1, normalize=False)"
      ]
     },
     "execution_count": 25,
     "metadata": {},
     "output_type": "execute_result"
    }
   ],
   "source": [
    "model_lr.fit(X_train_scale,y_train)"
   ]
  },
  {
   "cell_type": "code",
   "execution_count": 26,
   "metadata": {},
   "outputs": [],
   "source": [
    "y_predict = model_lr.predict(X_test_scale)"
   ]
  },
  {
   "cell_type": "code",
   "execution_count": 27,
   "metadata": {},
   "outputs": [
    {
     "data": {
      "text/plain": [
       "0.7066384929120164"
      ]
     },
     "execution_count": 27,
     "metadata": {},
     "output_type": "execute_result"
    }
   ],
   "source": [
    "r2_score(y_test, y_predict)"
   ]
  },
  {
   "cell_type": "code",
   "execution_count": 28,
   "metadata": {},
   "outputs": [
    {
     "data": {
      "image/png": "[encoded data removed]",
      "text/plain": [
       "<Figure size 1152x432 with 1 Axes>"
      ]
     },
     "metadata": {
      "needs_background": "light"
     },
     "output_type": "display_data"
    }
   ],
   "source": [
    "plt.scatter(X_test['sqft'],y_test)\n",
    "plt.scatter(X_test['sqft'],y_predict)\n",
    "plt.show()"
   ]
  },
  {
   "cell_type": "code",
   "execution_count": null,
   "metadata": {},
   "outputs": [],
   "source": []
  },
  {
   "cell_type": "code",
   "execution_count": null,
   "metadata": {},
   "outputs": [],
   "source": []
  }
 ],
 "metadata": {
  "kernelspec": {
   "display_name": "Python 3",
   "language": "python",
   "name": "python3"
  },
  "language_info": {
   "codemirror_mode": {
    "name": "ipython",
    "version": 3
   },
   "file_extension": ".py",
   "mimetype": "text/x-python",
   "name": "python",
   "nbconvert_exporter": "python",
   "pygments_lexer": "ipython3",
   "version": "3.6.5"
  }
 },
 "nbformat": 4,
 "nbformat_minor": 2
}
